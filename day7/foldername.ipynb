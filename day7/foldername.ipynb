{
 "cells": [
  {
   "cell_type": "code",
   "execution_count": 3,
   "metadata": {},
   "outputs": [],
   "source": [
    "import glob, os"
   ]
  },
  {
   "cell_type": "code",
   "execution_count": 4,
   "metadata": {},
   "outputs": [
    {
     "data": {
      "text/plain": [
       "'c:\\\\Sources\\\\StudyPython'"
      ]
     },
     "execution_count": 4,
     "metadata": {},
     "output_type": "execute_result"
    }
   ],
   "source": [
    "os.getcwd()"
   ]
  },
  {
   "cell_type": "code",
   "execution_count": 10,
   "metadata": {},
   "outputs": [
    {
     "data": {
      "text/plain": [
       "['.\\\\day1',\n",
       " '.\\\\day2',\n",
       " '.\\\\day3',\n",
       " '.\\\\day4',\n",
       " '.\\\\day5',\n",
       " '.\\\\day6',\n",
       " '.\\\\day7',\n",
       " '.\\\\newfile.txt',\n",
       " '.\\\\pic',\n",
       " '.\\\\pic_copied',\n",
       " '.\\\\README.md',\n",
       " '.\\\\writefile.txt',\n",
       " '.\\\\부산버스정보.csv']"
      ]
     },
     "execution_count": 10,
     "metadata": {},
     "output_type": "execute_result"
    }
   ],
   "source": [
    "glob.glob(\"./*\")\n"
   ]
  },
  {
   "cell_type": "code",
   "execution_count": 9,
   "metadata": {},
   "outputs": [
    {
     "data": {
      "text/plain": [
       "['.git',\n",
       " '.gitignore',\n",
       " 'day1',\n",
       " 'day2',\n",
       " 'day3',\n",
       " 'day4',\n",
       " 'day5',\n",
       " 'day6',\n",
       " 'day7',\n",
       " 'newfile.txt',\n",
       " 'pic',\n",
       " 'pic_copied',\n",
       " 'README.md',\n",
       " 'writefile.txt',\n",
       " '부산버스정보.csv']"
      ]
     },
     "execution_count": 9,
     "metadata": {},
     "output_type": "execute_result"
    }
   ],
   "source": [
    "os.listdir()"
   ]
  },
  {
   "cell_type": "code",
   "execution_count": 11,
   "metadata": {},
   "outputs": [
    {
     "data": {
      "text/plain": [
       "['day1', 'day2', 'day3', 'day4', 'day5', 'day6', 'day7', 'pic', 'pic_copied']"
      ]
     },
     "execution_count": 11,
     "metadata": {},
     "output_type": "execute_result"
    }
   ],
   "source": [
    "folderList = []\n",
    "for name in os.listdir():\n",
    "    if len(name.split('.')) == 1:\n",
    "        folderList.append(name)\n",
    "folderList"
   ]
  },
  {
   "cell_type": "code",
   "execution_count": 26,
   "metadata": {},
   "outputs": [
    {
     "data": {
      "text/plain": [
       "['day1', 'day2', 'day3', 'day4', 'day5', 'day6', 'day7', 'pic', 'pic_copied']"
      ]
     },
     "execution_count": 26,
     "metadata": {},
     "output_type": "execute_result"
    }
   ],
   "source": [
    "folderLis = []\n",
    "lis = list(filter(os.path.isdir, glob.glob('./*')))\n",
    "for l in lis:\n",
    "    folderLis.append(l[2:])\n",
    "folderLis\n",
    "\n",
    "\n",
    "\n"
   ]
  },
  {
   "cell_type": "code",
   "execution_count": 27,
   "metadata": {},
   "outputs": [
    {
     "data": {
      "text/plain": [
       "['.git',\n",
       " '.gitignore',\n",
       " 'newfile.txt',\n",
       " 'README.md',\n",
       " 'writefile.txt',\n",
       " '부산버스정보.csv']"
      ]
     },
     "execution_count": 27,
     "metadata": {},
     "output_type": "execute_result"
    }
   ],
   "source": [
    "filelist = []\n",
    "for name in os.listdir():\n",
    "    if len(name.split('.')) >= 2:\n",
    "        filelist.append(name)\n",
    "filelist"
   ]
  },
  {
   "cell_type": "code",
   "execution_count": 29,
   "metadata": {},
   "outputs": [
    {
     "data": {
      "text/plain": [
       "['.\\\\day1',\n",
       " '.\\\\day2',\n",
       " '.\\\\day3',\n",
       " '.\\\\day4',\n",
       " '.\\\\day5',\n",
       " '.\\\\day6',\n",
       " '.\\\\day7',\n",
       " '.\\\\newfile.txt',\n",
       " '.\\\\pic',\n",
       " '.\\\\pic_copied',\n",
       " '.\\\\README.md',\n",
       " '.\\\\writefile.txt',\n",
       " '.\\\\부산버스정보.csv']"
      ]
     },
     "execution_count": 29,
     "metadata": {},
     "output_type": "execute_result"
    }
   ],
   "source": [
    "glob.glob(\"./*\")"
   ]
  },
  {
   "cell_type": "code",
   "execution_count": 2,
   "metadata": {},
   "outputs": [
    {
     "data": {
      "text/plain": [
       "array([[0., 0., 0.],\n",
       "       [0., 0., 0.],\n",
       "       [0., 0., 0.]])"
      ]
     },
     "execution_count": 2,
     "metadata": {},
     "output_type": "execute_result"
    }
   ],
   "source": [
    "import numpy as np\n",
    "np.zeros((3, 3))"
   ]
  },
  {
   "cell_type": "code",
   "execution_count": null,
   "metadata": {},
   "outputs": [],
   "source": []
  }
 ],
 "metadata": {
  "interpreter": {
   "hash": "e5bc2cf9d9a3d85fb4b9cf5c2acdd222f933ac2e5b2df75a3f82eb3e684a5541"
  },
  "kernelspec": {
   "display_name": "Python 3.10.1 64-bit",
   "language": "python",
   "name": "python3"
  },
  "language_info": {
   "codemirror_mode": {
    "name": "ipython",
    "version": 3
   },
   "file_extension": ".py",
   "mimetype": "text/x-python",
   "name": "python",
   "nbconvert_exporter": "python",
   "pygments_lexer": "ipython3",
   "version": "3.10.1"
  },
  "orig_nbformat": 4
 },
 "nbformat": 4,
 "nbformat_minor": 2
}
