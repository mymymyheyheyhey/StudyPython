{
 "cells": [
  {
   "cell_type": "markdown",
   "metadata": {},
   "source": [
    "# Hello, Jupyter!\n",
    "## 파이썬 시작 on Jupyter Notebook"
   ]
  },
  {
   "cell_type": "code",
   "execution_count": 1,
   "metadata": {},
   "outputs": [
    {
     "name": "stdout",
     "output_type": "stream",
     "text": [
      "Hello, Jupyter\n"
     ]
    }
   ],
   "source": [
    "print('Hello, Jupyter')"
   ]
  },
  {
   "cell_type": "markdown",
   "metadata": {},
   "source": [
    "How to use variable in JupyterNotebook"
   ]
  },
  {
   "cell_type": "code",
   "execution_count": 4,
   "metadata": {},
   "outputs": [
    {
     "data": {
      "text/plain": [
       "10"
      ]
     },
     "execution_count": 4,
     "metadata": {},
     "output_type": "execute_result"
    }
   ],
   "source": [
    "a = 10\n",
    "a"
   ]
  },
  {
   "cell_type": "code",
   "execution_count": 6,
   "metadata": {},
   "outputs": [
    {
     "data": {
      "text/plain": [
       "20"
      ]
     },
     "execution_count": 6,
     "metadata": {},
     "output_type": "execute_result"
    }
   ],
   "source": [
    "b = 20\n",
    "a\n",
    "b"
   ]
  },
  {
   "cell_type": "code",
   "execution_count": 7,
   "metadata": {},
   "outputs": [
    {
     "name": "stdout",
     "output_type": "stream",
     "text": [
      "10\n",
      "20\n"
     ]
    }
   ],
   "source": [
    "print(a)\n",
    "print(b)\n"
   ]
  },
  {
   "cell_type": "code",
   "execution_count": 8,
   "metadata": {},
   "outputs": [
    {
     "name": "stdout",
     "output_type": "stream",
     "text": [
      "Collecting pdbpp\n",
      "  Downloading pdbpp-0.10.3-py2.py3-none-any.whl (23 kB)\n",
      "Collecting wmctrl\n",
      "  Downloading wmctrl-0.4.tar.gz (5.4 kB)\n",
      "  Preparing metadata (setup.py): started\n",
      "  Preparing metadata (setup.py): finished with status 'done'\n",
      "Requirement already satisfied: pygments in c:\\dev\\python\\python310\\lib\\site-packages (from pdbpp) (2.11.2)\n",
      "Collecting fancycompleter>=0.8\n",
      "  Downloading fancycompleter-0.9.1-py3-none-any.whl (9.7 kB)\n",
      "Collecting pyrepl>=0.8.2\n",
      "  Downloading pyrepl-0.9.0.tar.gz (48 kB)\n",
      "  Preparing metadata (setup.py): started\n",
      "  Preparing metadata (setup.py): finished with status 'done'\n",
      "Collecting pyreadline\n",
      "  Downloading pyreadline-2.1.zip (109 kB)\n",
      "  Preparing metadata (setup.py): started\n",
      "  Preparing metadata (setup.py): finished with status 'done'\n",
      "Using legacy 'setup.py install' for wmctrl, since package 'wheel' is not installed.\n",
      "Using legacy 'setup.py install' for pyrepl, since package 'wheel' is not installed.\n",
      "Using legacy 'setup.py install' for pyreadline, since package 'wheel' is not installed.\n",
      "Installing collected packages: pyrepl, pyreadline, wmctrl, fancycompleter, pdbpp\n",
      "    Running setup.py install for pyrepl: started\n",
      "    Running setup.py install for pyrepl: finished with status 'done'\n",
      "    Running setup.py install for pyreadline: started\n",
      "    Running setup.py install for pyreadline: finished with status 'done'\n",
      "    Running setup.py install for wmctrl: started\n",
      "    Running setup.py install for wmctrl: finished with status 'done'\n",
      "Successfully installed fancycompleter-0.9.1 pdbpp-0.10.3 pyreadline-2.1 pyrepl-0.9.0 wmctrl-0.4\n",
      "Note: you may need to restart the kernel to use updated packages.\n"
     ]
    }
   ],
   "source": [
    "pip install pdbpp"
   ]
  },
  {
   "cell_type": "code",
   "execution_count": null,
   "metadata": {},
   "outputs": [],
   "source": []
  }
 ],
 "metadata": {
  "interpreter": {
   "hash": "e5bc2cf9d9a3d85fb4b9cf5c2acdd222f933ac2e5b2df75a3f82eb3e684a5541"
  },
  "kernelspec": {
   "display_name": "Python 3.10.1 64-bit",
   "language": "python",
   "name": "python3"
  },
  "language_info": {
   "codemirror_mode": {
    "name": "ipython",
    "version": 3
   },
   "file_extension": ".py",
   "mimetype": "text/x-python",
   "name": "python",
   "nbconvert_exporter": "python",
   "pygments_lexer": "ipython3",
   "version": "3.10.1"
  },
  "orig_nbformat": 4
 },
 "nbformat": 4,
 "nbformat_minor": 2
}
